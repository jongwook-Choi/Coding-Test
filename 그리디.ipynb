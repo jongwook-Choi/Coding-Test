{
  "nbformat": 4,
  "nbformat_minor": 0,
  "metadata": {
    "colab": {
      "name": "그리디.ipynb",
      "provenance": [],
      "authorship_tag": "ABX9TyOYYgq32C6rj3saZGT759dq"
    },
    "kernelspec": {
      "name": "python3",
      "display_name": "Python 3"
    },
    "language_info": {
      "name": "python"
    }
  },
  "cells": [
    {
      "cell_type": "markdown",
      "metadata": {
        "id": "q2jxMz_5sD_u"
      },
      "source": [
        "# **Chapter3 그리디**"
      ]
    },
    {
      "cell_type": "markdown",
      "metadata": {
        "id": "vSy6jdDcVxO4"
      },
      "source": [
        "### **당장 좋은 것만 선택하는 그리디**"
      ]
    },
    {
      "cell_type": "code",
      "metadata": {
        "colab": {
          "base_uri": "https://localhost:8080/"
        },
        "id": "DZBPyKPSEKoG",
        "outputId": "919fbd09-8cff-43d3-8880-daaf65ee5f5a"
      },
      "source": [
        "# 예제 3-1 거스름돈 (내풀이)\n",
        "n = 1260\n",
        "x, n = n // 500, n % 500\n",
        "y, n = n // 100, n % 100\n",
        "z, n = n // 50, n % 50\n",
        "q = n // 10\n",
        "print(f'500원 {x}개, 100원 {y}개, 50원 {z}개 10원 {q}개')"
      ],
      "execution_count": null,
      "outputs": [
        {
          "output_type": "stream",
          "text": [
            "500원 2개, 100원 2개, 50원 1개 10원 1개\n"
          ],
          "name": "stdout"
        }
      ]
    },
    {
      "cell_type": "code",
      "metadata": {
        "colab": {
          "base_uri": "https://localhost:8080/"
        },
        "id": "j-VOdD2fFnVK",
        "outputId": "81ea4ad8-8953-40b9-929d-ccae54406d9e"
      },
      "source": [
        "# 예제 3-1 거스름돈 (답안 예시)\n",
        "n = 1260 \n",
        "count = 0\n",
        "\n",
        "coin_type = [500, 100, 50, 10]\n",
        "for coin in coin_type:\n",
        "    count += n // coin\n",
        "    n %= coin\n",
        "\n",
        "print(count)"
      ],
      "execution_count": null,
      "outputs": [
        {
          "output_type": "stream",
          "text": [
            "6\n"
          ],
          "name": "stdout"
        }
      ]
    },
    {
      "cell_type": "markdown",
      "metadata": {
        "id": "fkCVp_0-Gtm1"
      },
      "source": [
        "### **큰 수의 법칙**"
      ]
    },
    {
      "cell_type": "code",
      "metadata": {
        "id": "-pgXu5dTU733",
        "colab": {
          "base_uri": "https://localhost:8080/"
        },
        "outputId": "ce36b04c-9392-4134-f05e-063438cbbcf0"
      },
      "source": [
        "# 내 풀이 \n",
        "n, m, k  = map(int, input().split())\n",
        "data = list(map(int, input().split()))\n",
        "\n",
        "data.sort()\n",
        "\n",
        "result = 0\n",
        "i = 0\n",
        "while True:\n",
        "    for _ in range(k):\n",
        "        if i >= m:\n",
        "          break\n",
        "        result += data[-1]\n",
        "        i += 1\n",
        "    if i >= m:\n",
        "        break\n",
        "    result += data[-2]\n",
        "    i += 1\n",
        "\n",
        "print(result)"
      ],
      "execution_count": null,
      "outputs": [
        {
          "output_type": "stream",
          "text": [
            "5 8 3\n",
            "2 4 5 4 6\n",
            "46\n"
          ],
          "name": "stdout"
        }
      ]
    },
    {
      "cell_type": "code",
      "metadata": {
        "colab": {
          "base_uri": "https://localhost:8080/"
        },
        "id": "Ng3Tk7o8obF_",
        "outputId": "068bf508-7c43-4829-a29a-ffc3f543ac96"
      },
      "source": [
        "# 단순하게 푸는 답안 예시\n",
        "n, m, k  = map(int, input().split())\n",
        "data = list(map(int, input().split()))\n",
        "\n",
        "data.sort()\n",
        "first = data[n-1]\n",
        "second  = data[n-2]\n",
        "\n",
        "result = 0\n",
        "while True:\n",
        "    for i in range(k):\n",
        "        if m == 0:\n",
        "            break\n",
        "        result += first\n",
        "        m -= 1\n",
        "    if m == 0:\n",
        "        break\n",
        "    result += second\n",
        "    m -= 1\n",
        "\n",
        "print(result)"
      ],
      "execution_count": null,
      "outputs": [
        {
          "output_type": "stream",
          "text": [
            "5 8 3\n",
            "2 4 5 4 6\n",
            "46\n"
          ],
          "name": "stdout"
        }
      ]
    },
    {
      "cell_type": "code",
      "metadata": {
        "colab": {
          "base_uri": "https://localhost:8080/"
        },
        "id": "xT49o0tX9w7l",
        "outputId": "2028d508-d730-4d6f-f078-c6b6294352c9"
      },
      "source": [
        "# 답안 예시\n",
        "n, m, k  = map(int, input().split())\n",
        "data = list(map(int, input().split()))\n",
        "\n",
        "data.sort() # 정렬\n",
        "first = data[n - 1] # 가장 큰 수\n",
        "second = data[n - 2] # 두 번째로 큰 수\n",
        "\n",
        "# 가장 큰 수가 더해지는 횟수 계산\n",
        "count = int(m/(k + 1)) * k\n",
        "count += m % (k + 1)\n",
        "\n",
        "result = 0\n",
        "result += (count) * first # 가장 큰 수 더하기\n",
        "result += (m - count) * second # 두 번째로 큰 수 더하기\n",
        "\n",
        "print(result)"
      ],
      "execution_count": null,
      "outputs": [
        {
          "output_type": "stream",
          "text": [
            "5 8 3\n",
            "2 4 5 4 6\n",
            "46\n"
          ],
          "name": "stdout"
        }
      ]
    },
    {
      "cell_type": "markdown",
      "metadata": {
        "id": "g0OmXUeeGlh_"
      },
      "source": [
        "##### 자체 피드백\n",
        "for 문을 사용한다는건 알고리즘 문제에서 좋지 않은것 같다.  \n",
        "최대한 for문을 적게 사용하는 방법을 사용하는게 필요하다.  \n",
        "간단한 수학적 방법을 통해 원하는 값을 도출하도록 노려하자.  \n"
      ]
    },
    {
      "cell_type": "code",
      "metadata": {
        "colab": {
          "base_uri": "https://localhost:8080/"
        },
        "id": "OzsiNbdWqEue",
        "outputId": "a4419c0a-266c-40ce-bd03-eaf832c05b12"
      },
      "source": [
        "# 내 풀이 추가\n",
        "n, m, k = map(int, input().split())\n",
        "data = list(map(int, input().split()))\n",
        "\n",
        "data.sort()\n",
        "first = data[-1]\n",
        "second = data[-2]\n",
        "\n",
        "routine = first * k + second\n",
        "r = m // (k + 1)\n",
        "l = m % (k + 1)\n",
        "\n",
        "result = r * routine + l * first\n",
        "print(result)"
      ],
      "execution_count": null,
      "outputs": [
        {
          "output_type": "stream",
          "text": [
            "5 8 3\n",
            "2 4 5 4 6\n",
            "46\n"
          ],
          "name": "stdout"
        }
      ]
    },
    {
      "cell_type": "markdown",
      "metadata": {
        "id": "t0TLr-Tfr9D8"
      },
      "source": [
        "### **숫자 카드 게임**"
      ]
    },
    {
      "cell_type": "code",
      "metadata": {
        "id": "0r1siQTqrtHO",
        "colab": {
          "base_uri": "https://localhost:8080/"
        },
        "outputId": "e0bcba48-494f-44b5-8399-220452e0fbed"
      },
      "source": [
        "# 내 풀이\n",
        "n, m = map(int, input().split())\n",
        "\n",
        "matrix = []\n",
        "for _ in range(n):\n",
        "    row = list(map(int, input().split()))\n",
        "    row.sort()\n",
        "    matrix.append(row)\n",
        "\n",
        "result = []\n",
        "for i in matrix:\n",
        "    result.append(i[0])\n",
        "\n",
        "print(max(result))"
      ],
      "execution_count": null,
      "outputs": [
        {
          "output_type": "stream",
          "text": [
            "2 4\n",
            "7 3 1 8\n",
            "3 3 3 4\n",
            "3\n"
          ],
          "name": "stdout"
        }
      ]
    },
    {
      "cell_type": "code",
      "metadata": {
        "colab": {
          "base_uri": "https://localhost:8080/"
        },
        "id": "Y-VsYkeHIbr7",
        "outputId": "8db2ba44-50dd-4044-a039-735811822dd4"
      },
      "source": [
        "# min 함수를 이용하는 답안\n",
        "n, m = map(int, input().split())\n",
        "\n",
        "result = 0\n",
        "for i in range(n):\n",
        "    data = list(map(int, input().split()))\n",
        "    min_value = min(data)\n",
        "    result = max(result, min_value)\n",
        "\n",
        "print(result)"
      ],
      "execution_count": null,
      "outputs": [
        {
          "output_type": "stream",
          "text": [
            "3 3\n",
            "3 1 2\n",
            "4 1 4\n",
            "2 2 2\n",
            "2\n"
          ],
          "name": "stdout"
        }
      ]
    },
    {
      "cell_type": "code",
      "metadata": {
        "colab": {
          "base_uri": "https://localhost:8080/"
        },
        "id": "PAwt7l8r4YgL",
        "outputId": "572f2b9f-5a80-45f8-d01e-35d3100b3d88"
      },
      "source": [
        "# 2중 반복문 구조를 이용하는 답안\n",
        "n, m = map(int, input().split())\n",
        "\n",
        "result = 0\n",
        "for i in range(n):\n",
        "    data = list(map(int, input().split()))\n",
        "    min_value = 10001\n",
        "    for a in data:\n",
        "        min_value = min(min_value, a)\n",
        "print(result)"
      ],
      "execution_count": null,
      "outputs": [
        {
          "output_type": "stream",
          "text": [
            "3 3\n",
            "3 1 2\n",
            "4 1 4\n",
            "2 2 2\n",
            "2\n"
          ],
          "name": "stdout"
        }
      ]
    },
    {
      "cell_type": "markdown",
      "metadata": {
        "id": "PKogtXeF7en5"
      },
      "source": [
        "##### 자체 피드백\n",
        "입력단의 접근은 답안과 동일했으나 출력 부분의 접근에서 불필요한 for문이 사용된것 같다.  \n",
        "필요없는 for 문을 줄이는 것을 항상 목표로 하자."
      ]
    },
    {
      "cell_type": "code",
      "metadata": {
        "colab": {
          "base_uri": "https://localhost:8080/"
        },
        "id": "1Z6pGs4v5_UW",
        "outputId": "723a6b4b-e9e8-46d1-dbf6-929f8ac55165"
      },
      "source": [
        "# 내 풀이 추가\n",
        "n, m = map(int, input().split())\n",
        "\n",
        "tmp = []\n",
        "for _ in range(n):\n",
        "    row = list(map(int, input().split()))\n",
        "    min_value = min(row)\n",
        "    tmp.append(min_value)\n",
        "    \n",
        "print(max(tmp))"
      ],
      "execution_count": null,
      "outputs": [
        {
          "output_type": "stream",
          "text": [
            "2 4\n",
            "7 3 1 8\n",
            "3 3 3 4\n",
            "3\n"
          ],
          "name": "stdout"
        }
      ]
    },
    {
      "cell_type": "markdown",
      "metadata": {
        "id": "GxXkOwlG7arf"
      },
      "source": [
        "### **1이 될때까지**\n",
        "자체 피드백  \n",
        "답안과 나의 풀이가 접근 방식이 많이 달라, 자체 피드백을 진행하기에 어려움이 있다.  \n",
        "답안은 나눗셈을 직접 진행한 반면, 나는 거듭제곱을 이용해 풀이했다."
      ]
    },
    {
      "cell_type": "code",
      "metadata": {
        "id": "hU3zF59o7WXd",
        "colab": {
          "base_uri": "https://localhost:8080/"
        },
        "outputId": "5ab38658-9bf4-47d7-f04d-f45ef5ad96d5"
      },
      "source": [
        "# 내 풀이\n",
        "n, k = map(int, input().split())\n",
        "\n",
        "if n < k:\n",
        "    print(n-1)\n",
        "else:\n",
        "    i = 1\n",
        "    result = 0\n",
        "    while True:\n",
        "        if k**i <= n < k**(i+1):\n",
        "            result += i\n",
        "            result += (n - k**i)\n",
        "            print(result)\n",
        "            break\n",
        "        else:\n",
        "            i += 1"
      ],
      "execution_count": 13,
      "outputs": [
        {
          "output_type": "stream",
          "text": [
            "2 2\n",
            "1\n"
          ],
          "name": "stdout"
        }
      ]
    },
    {
      "cell_type": "code",
      "metadata": {
        "colab": {
          "base_uri": "https://localhost:8080/"
        },
        "id": "-JXZS1FSf6iV",
        "outputId": "986137d8-a12e-4be4-df1e-06b36b5190b4"
      },
      "source": [
        "# 단순하게 푸는 답안 예시\n",
        "n, k = map(int, input().split())\n",
        "result = 0\n",
        "\n",
        "# N이 K 이상이라면 K로 계속 나누기\n",
        "while n >= k:\n",
        "    while n % k != 0:\n",
        "        n -= 1\n",
        "        result += 1\n",
        "    n //= k\n",
        "    result += 1\n",
        "\n",
        "while n > 1:\n",
        "    n -= 1\n",
        "    result += 1\n",
        "print(result)"
      ],
      "execution_count": 9,
      "outputs": [
        {
          "output_type": "stream",
          "text": [
            "25 5\n",
            "2\n"
          ],
          "name": "stdout"
        }
      ]
    },
    {
      "cell_type": "code",
      "metadata": {
        "colab": {
          "base_uri": "https://localhost:8080/"
        },
        "id": "j-CGq6RghwTF",
        "outputId": "3d8febb1-c1f4-4ad4-ea23-4fbb115c63c8"
      },
      "source": [
        "# 답안 예시\n",
        "n, k = map(int, input().split())\n",
        "result = 0\n",
        "\n",
        "while True:\n",
        "    target = (n//k) * k\n",
        "    result += (n-target)\n",
        "    n = target\n",
        "    if n < k:\n",
        "        break\n",
        "    result += 1\n",
        "    n //= k\n",
        "\n",
        "result += (n - 1)\n",
        "print(result)"
      ],
      "execution_count": 14,
      "outputs": [
        {
          "output_type": "stream",
          "text": [
            "17 4\n",
            "3\n"
          ],
          "name": "stdout"
        }
      ]
    }
  ]
}