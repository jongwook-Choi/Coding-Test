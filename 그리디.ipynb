{
  "nbformat": 4,
  "nbformat_minor": 0,
  "metadata": {
    "colab": {
      "name": "그리디.ipynb",
      "provenance": [],
      "authorship_tag": "ABX9TyO/mJRZ0aqiwBcaV+97Gtn9",
      "include_colab_link": true
    },
    "kernelspec": {
      "name": "python3",
      "display_name": "Python 3"
    },
    "language_info": {
      "name": "python"
    }
  },
  "cells": [
    {
      "cell_type": "markdown",
      "metadata": {
        "id": "view-in-github",
        "colab_type": "text"
      },
      "source": [
        "<a href=\"https://colab.research.google.com/github/jongwook-Choi/Coding-Test/blob/main/%EA%B7%B8%EB%A6%AC%EB%94%94.ipynb\" target=\"_parent\"><img src=\"https://colab.research.google.com/assets/colab-badge.svg\" alt=\"Open In Colab\"/></a>"
      ]
    },
    {
      "cell_type": "code",
      "metadata": {
        "colab": {
          "base_uri": "https://localhost:8080/"
        },
        "id": "DZBPyKPSEKoG",
        "outputId": "919fbd09-8cff-43d3-8880-daaf65ee5f5a"
      },
      "source": [
        "# 예제 3-1 거스름돈 (내풀이)\n",
        "n = 1260\n",
        "x, n = n // 500, n % 500\n",
        "y, n = n // 100, n % 100\n",
        "z, n = n // 50, n % 50\n",
        "q = n // 10\n",
        "print(f'500원 {x}개, 100원 {y}개, 50원 {z}개 10원 {q}개')"
      ],
      "execution_count": 3,
      "outputs": [
        {
          "output_type": "stream",
          "text": [
            "500원 2개, 100원 2개, 50원 1개 10원 1개\n"
          ],
          "name": "stdout"
        }
      ]
    },
    {
      "cell_type": "code",
      "metadata": {
        "colab": {
          "base_uri": "https://localhost:8080/"
        },
        "id": "j-VOdD2fFnVK",
        "outputId": "81ea4ad8-8953-40b9-929d-ccae54406d9e"
      },
      "source": [
        "# 예제 3-1 거스름돈 (답안 예시)\n",
        "n = 1260 \n",
        "count = 0\n",
        "\n",
        "coin_type = [500, 100, 50, 10]\n",
        "for coin in coin_type:\n",
        "  count += n // coin\n",
        "  n %= coin\n",
        "\n",
        "print(count)"
      ],
      "execution_count": 6,
      "outputs": [
        {
          "output_type": "stream",
          "text": [
            "6\n"
          ],
          "name": "stdout"
        }
      ]
    },
    {
      "cell_type": "markdown",
      "metadata": {
        "id": "fkCVp_0-Gtm1"
      },
      "source": [
        ""
      ]
    }
  ]
}