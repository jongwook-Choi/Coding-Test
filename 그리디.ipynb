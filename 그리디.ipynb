{
  "nbformat": 4,
  "nbformat_minor": 0,
  "metadata": {
    "colab": {
      "name": "그리디.ipynb",
      "provenance": [],
      "authorship_tag": "ABX9TyOkGwspsE3xx+5pqmOfcAf3"
    },
    "kernelspec": {
      "name": "python3",
      "display_name": "Python 3"
    },
    "language_info": {
      "name": "python"
    }
  },
  "cells": [
    {
      "cell_type": "markdown",
      "metadata": {
        "id": "q2jxMz_5sD_u"
      },
      "source": [
        "# **Chapter3 그리디**"
      ]
    },
    {
      "cell_type": "markdown",
      "metadata": {
        "id": "vSy6jdDcVxO4"
      },
      "source": [
        "### **당장 좋은 것만 선택하는 그리디**"
      ]
    },
    {
      "cell_type": "code",
      "metadata": {
        "colab": {
          "base_uri": "https://localhost:8080/"
        },
        "id": "DZBPyKPSEKoG",
        "outputId": "919fbd09-8cff-43d3-8880-daaf65ee5f5a"
      },
      "source": [
        "# 예제 3-1 거스름돈 (내풀이)\n",
        "n = 1260\n",
        "x, n = n // 500, n % 500\n",
        "y, n = n // 100, n % 100\n",
        "z, n = n // 50, n % 50\n",
        "q = n // 10\n",
        "print(f'500원 {x}개, 100원 {y}개, 50원 {z}개 10원 {q}개')"
      ],
      "execution_count": null,
      "outputs": [
        {
          "output_type": "stream",
          "text": [
            "500원 2개, 100원 2개, 50원 1개 10원 1개\n"
          ],
          "name": "stdout"
        }
      ]
    },
    {
      "cell_type": "code",
      "metadata": {
        "colab": {
          "base_uri": "https://localhost:8080/"
        },
        "id": "j-VOdD2fFnVK",
        "outputId": "81ea4ad8-8953-40b9-929d-ccae54406d9e"
      },
      "source": [
        "# 예제 3-1 거스름돈 (답안 예시)\n",
        "n = 1260 \n",
        "count = 0\n",
        "\n",
        "coin_type = [500, 100, 50, 10]\n",
        "for coin in coin_type:\n",
        "    count += n // coin\n",
        "    n %= coin\n",
        "\n",
        "print(count)"
      ],
      "execution_count": null,
      "outputs": [
        {
          "output_type": "stream",
          "text": [
            "6\n"
          ],
          "name": "stdout"
        }
      ]
    },
    {
      "cell_type": "markdown",
      "metadata": {
        "id": "fkCVp_0-Gtm1"
      },
      "source": [
        "### **큰 수의 법칙**"
      ]
    },
    {
      "cell_type": "code",
      "metadata": {
        "id": "-pgXu5dTU733",
        "colab": {
          "base_uri": "https://localhost:8080/"
        },
        "outputId": "ce36b04c-9392-4134-f05e-063438cbbcf0"
      },
      "source": [
        "# 내 답안 \n",
        "n, m, k  = map(int, input().split())\n",
        "data = list(map(int, input().split()))\n",
        "\n",
        "data.sort()\n",
        "\n",
        "result = 0\n",
        "i = 0\n",
        "while True:\n",
        "    for _ in range(k):\n",
        "        if i >= m:\n",
        "          break\n",
        "        result += data[-1]\n",
        "        i += 1\n",
        "    if i >= m:\n",
        "        break\n",
        "    result += data[-2]\n",
        "    i += 1\n",
        "\n",
        "print(result)"
      ],
      "execution_count": null,
      "outputs": [
        {
          "output_type": "stream",
          "text": [
            "5 8 3\n",
            "2 4 5 4 6\n",
            "46\n"
          ],
          "name": "stdout"
        }
      ]
    },
    {
      "cell_type": "code",
      "metadata": {
        "colab": {
          "base_uri": "https://localhost:8080/"
        },
        "id": "Ng3Tk7o8obF_",
        "outputId": "068bf508-7c43-4829-a29a-ffc3f543ac96"
      },
      "source": [
        "# 단순하게 푸는 답안 예시\n",
        "n, m, k  = map(int, input().split())\n",
        "data = list(map(int, input().split()))\n",
        "\n",
        "data.sort()\n",
        "first = data[n-1]\n",
        "second  = data[n-2]\n",
        "\n",
        "result = 0\n",
        "while True:\n",
        "    for i in range(k):\n",
        "        if m == 0:\n",
        "            break\n",
        "        result += first\n",
        "        m -= 1\n",
        "    if m == 0:\n",
        "        break\n",
        "    result += second\n",
        "    m -= 1\n",
        "\n",
        "print(result)"
      ],
      "execution_count": null,
      "outputs": [
        {
          "output_type": "stream",
          "text": [
            "5 8 3\n",
            "2 4 5 4 6\n",
            "46\n"
          ],
          "name": "stdout"
        }
      ]
    },
    {
      "cell_type": "code",
      "metadata": {
        "colab": {
          "base_uri": "https://localhost:8080/"
        },
        "id": "xT49o0tX9w7l",
        "outputId": "2028d508-d730-4d6f-f078-c6b6294352c9"
      },
      "source": [
        "# 답안\n",
        "n, m, k  = map(int, input().split())\n",
        "data = list(map(int, input().split()))\n",
        "\n",
        "data.sort() # 정렬\n",
        "first = data[n - 1] # 가장 큰 수\n",
        "second = data[n - 2] # 두 번째로 큰 수\n",
        "\n",
        "# 가장 큰 수가 더해지는 횟수 계산\n",
        "count = int(m/(k + 1)) * k\n",
        "count += m % (k + 1)\n",
        "\n",
        "result = 0\n",
        "result += (count) * first # 가장 큰 수 더하기\n",
        "result += (m - count) * second # 두 번째로 큰 수 더하기\n",
        "\n",
        "print(result)"
      ],
      "execution_count": null,
      "outputs": [
        {
          "output_type": "stream",
          "text": [
            "5 8 3\n",
            "2 4 5 4 6\n",
            "46\n"
          ],
          "name": "stdout"
        }
      ]
    },
    {
      "cell_type": "code",
      "metadata": {
        "colab": {
          "base_uri": "https://localhost:8080/"
        },
        "id": "OzsiNbdWqEue",
        "outputId": "9dbe4640-7fd4-4997-80f3-07395e7e1ad4"
      },
      "source": [
        "# 내 풀이 추가\n",
        "n, m, k = map(int, input().split())\n",
        "data = list(map(int, input().split()))\n",
        "\n",
        "data.sort()\n",
        "first = data[-1]\n",
        "second = data[-2]\n",
        "\n",
        "routine = first * k + second\n",
        "r = m // (k + 1)\n",
        "l = m % (k + 1)\n",
        "\n",
        "result = r * routine + l * first\n",
        "print(result)"
      ],
      "execution_count": 2,
      "outputs": [
        {
          "output_type": "stream",
          "text": [
            "5 8 3\n",
            "2 4 5 4 6\n",
            "46\n"
          ],
          "name": "stdout"
        }
      ]
    },
    {
      "cell_type": "markdown",
      "metadata": {
        "id": "t0TLr-Tfr9D8"
      },
      "source": [
        "### **숫자 카드 게임**"
      ]
    },
    {
      "cell_type": "code",
      "metadata": {
        "id": "0r1siQTqrtHO"
      },
      "source": [
        "# 고민중...\n",
        "n, m = map(int, input().split())\n",
        "\n",
        "matrix = []\n",
        "for _ in range(n):\n",
        "    row = []\n",
        "    for _ in range(m):\n",
        "        row.append()        \n"
      ],
      "execution_count": null,
      "outputs": []
    }
  ]
}