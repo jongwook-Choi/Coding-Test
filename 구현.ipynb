{
  "nbformat": 4,
  "nbformat_minor": 0,
  "metadata": {
    "colab": {
      "name": "구현.ipynb",
      "provenance": [],
      "authorship_tag": "ABX9TyPTqAh/93QhqGxQF1vXxY0H"
    },
    "kernelspec": {
      "name": "python3",
      "display_name": "Python 3"
    },
    "language_info": {
      "name": "python"
    }
  },
  "cells": [
    {
      "cell_type": "markdown",
      "metadata": {
        "id": "BLmgQThN5tmn"
      },
      "source": [
        "# **Chapter4 구현**"
      ]
    },
    {
      "cell_type": "markdown",
      "metadata": {
        "id": "fhJU3DgS5lwz"
      },
      "source": [
        "### **상하좌우**"
      ]
    },
    {
      "cell_type": "code",
      "metadata": {
        "id": "OWqqGhLq3wkk"
      },
      "source": [
        "# 내 풀이\n",
        "n = int(input())\n",
        "move = input()"
      ],
      "execution_count": null,
      "outputs": []
    },
    {
      "cell_type": "code",
      "metadata": {
        "id": "VsFBDLlE306n"
      },
      "source": [
        ""
      ],
      "execution_count": null,
      "outputs": []
    },
    {
      "cell_type": "code",
      "metadata": {
        "id": "Q8X7BQrr309b"
      },
      "source": [
        ""
      ],
      "execution_count": null,
      "outputs": []
    },
    {
      "cell_type": "code",
      "metadata": {
        "id": "3ikIBzX731AQ"
      },
      "source": [
        ""
      ],
      "execution_count": null,
      "outputs": []
    },
    {
      "cell_type": "code",
      "metadata": {
        "id": "_yKd581N31Cs"
      },
      "source": [
        ""
      ],
      "execution_count": null,
      "outputs": []
    },
    {
      "cell_type": "code",
      "metadata": {
        "id": "pphKfH4V31Fg"
      },
      "source": [
        ""
      ],
      "execution_count": null,
      "outputs": []
    },
    {
      "cell_type": "code",
      "metadata": {
        "id": "B7M7-flR31IY"
      },
      "source": [
        ""
      ],
      "execution_count": null,
      "outputs": []
    },
    {
      "cell_type": "code",
      "metadata": {
        "id": "291ryTBM31LK"
      },
      "source": [
        ""
      ],
      "execution_count": null,
      "outputs": []
    }
  ]
}