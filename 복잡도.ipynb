{
  "nbformat": 4,
  "nbformat_minor": 0,
  "metadata": {
    "colab": {
      "name": "복잡도.ipynb",
      "provenance": [],
      "collapsed_sections": [],
      "authorship_tag": "ABX9TyMGOBRr/Vcokfzo7dnFn3X6",
      "include_colab_link": true
    },
    "kernelspec": {
      "name": "python3",
      "display_name": "Python 3"
    },
    "language_info": {
      "name": "python"
    }
  },
  "cells": [
    {
      "cell_type": "markdown",
      "metadata": {
        "id": "view-in-github",
        "colab_type": "text"
      },
      "source": [
        "<a href=\"https://colab.research.google.com/github/jongwook-Choi/Coding-Test/blob/main/%EB%B3%B5%EC%9E%A1%EB%8F%84.ipynb\" target=\"_parent\"><img src=\"https://colab.research.google.com/assets/colab-badge.svg\" alt=\"Open In Colab\"/></a>"
      ]
    },
    {
      "cell_type": "code",
      "metadata": {
        "id": "6cAc33EoTSvq",
        "colab": {
          "base_uri": "https://localhost:8080/"
        },
        "outputId": "e8ec60da-1241-45d5-a352-d33bb7744c97"
      },
      "source": [
        "array = [3, 5, 1, 2, 4] # 5개의 데이터(N = 5)\n",
        "summary = 0\n",
        "\n",
        "# 모든 데이터를 하나씩 확인하며 합계를 계산\n",
        "for x in array:\n",
        "    summary += x\n",
        "\n",
        "# 결과를 출력\n",
        "print(summary)"
      ],
      "execution_count": null,
      "outputs": [
        {
          "output_type": "stream",
          "text": [
            "15\n"
          ],
          "name": "stdout"
        }
      ]
    },
    {
      "cell_type": "code",
      "metadata": {
        "id": "0nnfKgkbVVAp"
      },
      "source": [
        "# temp"
      ],
      "execution_count": null,
      "outputs": []
    }
  ]
}