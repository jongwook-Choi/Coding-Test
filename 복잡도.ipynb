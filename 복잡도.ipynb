{
  "nbformat": 4,
  "nbformat_minor": 0,
  "metadata": {
    "colab": {
      "name": "복잡도.ipynb",
      "provenance": [],
      "collapsed_sections": [],
      "authorship_tag": "ABX9TyOlV5QXOc4YCJLWpH5gULM9",
      "include_colab_link": true
    },
    "kernelspec": {
      "name": "python3",
      "display_name": "Python 3"
    },
    "language_info": {
      "name": "python"
    }
  },
  "cells": [
    {
      "cell_type": "markdown",
      "metadata": {
        "id": "view-in-github",
        "colab_type": "text"
      },
      "source": [
        "<a href=\"https://colab.research.google.com/github/jongwook-Choi/Coding-Test/blob/main/%EB%B3%B5%EC%9E%A1%EB%8F%84.ipynb\" target=\"_parent\"><img src=\"https://colab.research.google.com/assets/colab-badge.svg\" alt=\"Open In Colab\"/></a>"
      ]
    },
    {
      "cell_type": "code",
      "metadata": {
        "id": "6cAc33EoTSvq",
        "colab": {
          "base_uri": "https://localhost:8080/"
        },
        "outputId": "e8ec60da-1241-45d5-a352-d33bb7744c97"
      },
      "source": [
        "# 시간 복잡도 O(N)\n",
        "array = [3, 5, 1, 2, 4] # 5개의 데이터(N = 5)\n",
        "summary = 0\n",
        "\n",
        "# 모든 데이터를 하나씩 확인하며 합계를 계산\n",
        "for x in array:\n",
        "    summary += x\n",
        "\n",
        "# 결과를 출력\n",
        "print(summary)"
      ],
      "execution_count": null,
      "outputs": [
        {
          "output_type": "stream",
          "text": [
            "15\n"
          ],
          "name": "stdout"
        }
      ]
    },
    {
      "cell_type": "code",
      "metadata": {
        "colab": {
          "base_uri": "https://localhost:8080/"
        },
        "id": "Y53E7IEwkPTH",
        "outputId": "171bb99f-2aaf-4f88-b7de-707aa4b858d2"
      },
      "source": [
        "# 시간 복잡도 O(1)\n",
        "a = 5\n",
        "b = 7\n",
        "\n",
        "print(a + b)"
      ],
      "execution_count": 7,
      "outputs": [
        {
          "output_type": "stream",
          "text": [
            "12\n"
          ],
          "name": "stdout"
        }
      ]
    },
    {
      "cell_type": "code",
      "metadata": {
        "colab": {
          "base_uri": "https://localhost:8080/"
        },
        "id": "bouyQ5u2kZXu",
        "outputId": "8b6ed0fc-50a5-49dc-f957-af8646474079"
      },
      "source": [
        "# 시간 복잡도 O(N^2)\n",
        "array = [3, 5, 1, 2, 4]\n",
        "\n",
        "for i in array:\n",
        "    for j in array:\n",
        "        temp = i * j\n",
        "        print(temp, end = ' ')"
      ],
      "execution_count": 6,
      "outputs": [
        {
          "output_type": "stream",
          "text": [
            "9 15 3 6 12 15 25 5 10 20 3 5 1 2 4 6 10 2 4 8 12 20 4 8 16 "
          ],
          "name": "stdout"
        }
      ]
    },
    {
      "cell_type": "code",
      "metadata": {
        "id": "0nnfKgkbVVAp",
        "colab": {
          "base_uri": "https://localhost:8080/"
        },
        "outputId": "63ed2de9-04e6-42c2-a8a2-a26818f056b2"
      },
      "source": [
        "import time\n",
        "start_time = time.time() # 측정 시작\n",
        "\n",
        "# 프로그램 소스코드\n",
        "end_time = time.time() # 측정 종료\n",
        "print(\"time :\", end_time - start_time)"
      ],
      "execution_count": 1,
      "outputs": [
        {
          "output_type": "stream",
          "text": [
            "time : 1.71661376953125e-05\n"
          ],
          "name": "stdout"
        }
      ]
    },
    {
      "cell_type": "code",
      "metadata": {
        "colab": {
          "base_uri": "https://localhost:8080/"
        },
        "id": "tqoVaHIGfGip",
        "outputId": "6185b17f-34a9-49bd-875c-9b59541afa7b"
      },
      "source": [
        "from random import randint\n",
        "import time\n",
        "\n",
        "# 배열에 10,000 개의 정수를 삽입\n",
        "array = []\n",
        "for _ in range(10000):\n",
        "    array.append(randint(1, 100)) # 1 부터 100 사이의 랜덤한 정수\n",
        "\n",
        "# 선택 정렬 프로그램 성능 측정\n",
        "start_time = time.time()\n",
        "\n",
        "for i in range(len(array)):\n",
        "    min_index = i # 가장 작은 원소의 인덱스\n",
        "    for j in range(i+1, len(array)):\n",
        "        if array[min_index] > array[j]:\n",
        "            min_index = j\n",
        "    array[i], array[min_index] = array[min_index], array[i] # 스와프\n",
        "\n",
        "end_time = time.time()\n",
        "print(\"선택 정렬 성능 측정 :\", end_time - start_time) # 수행시간 측정\n",
        "\n",
        "# 배열을 다시 무작위 데이터로 초기화\n",
        "array = []\n",
        "for _ in range(10000):\n",
        "    array.append(randint(1, 100)) # 1 부터 100 사이의 랜덤한 정수\n",
        "\n",
        "# 기본 정렬 라이브러리 성능 측정\n",
        "start_time = time.time()\n",
        "\n",
        "# 기본 정렬 라이브러리 사용\n",
        "array.sort()\n",
        "\n",
        "end_time = time.time()\n",
        "print(\"기본 정렬 성능 측정 :\", end_time - start_time) # 수행시간 측정"
      ],
      "execution_count": 4,
      "outputs": [
        {
          "output_type": "stream",
          "text": [
            "선택 정렬 성능 측정 : 7.038310527801514\n",
            "기본 정렬 성능 측정 : 0.0011532306671142578\n"
          ],
          "name": "stdout"
        }
      ]
    },
    {
      "cell_type": "code",
      "metadata": {
        "id": "PXnaKI5jkOFg"
      },
      "source": [
        ""
      ],
      "execution_count": null,
      "outputs": []
    }
  ]
}